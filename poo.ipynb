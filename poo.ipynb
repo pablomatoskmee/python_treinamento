{
 "cells": [
  {
   "attachments": {},
   "cell_type": "markdown",
   "metadata": {},
   "source": [
    "foods = ['apple', 'orange', 'cat']\n",
    "\n",
    "bag = ['apple', 'orange', 'cat']\n",
    "\n",
    "foods == bag        True\n",
    "\n",
    "\n",
    "foods is bag        False"
   ]
  },
  {
   "cell_type": "code",
   "execution_count": null,
   "metadata": {},
   "outputs": [],
   "source": [
    "class Car:\n",
    "    portas = 2\n",
    "    def __init__(self, name):\n",
    "        self.name = name\n",
    "\n",
    "class Ferrari(Car):\n",
    "    def __init__(self, model):\n",
    "        super().__init__(\"Ferrari\")"
   ]
  }
 ],
 "metadata": {
  "kernelspec": {
   "display_name": "Python 3",
   "language": "python",
   "name": "python3"
  },
  "language_info": {
   "name": "python",
   "version": "3.10.6 (main, Nov 14 2022, 16:10:14) [GCC 11.3.0]"
  },
  "orig_nbformat": 4,
  "vscode": {
   "interpreter": {
    "hash": "916dbcbb3f70747c44a77c7bcd40155683ae19c65e1c03b4aa3499c5328201f1"
   }
  }
 },
 "nbformat": 4,
 "nbformat_minor": 2
}
